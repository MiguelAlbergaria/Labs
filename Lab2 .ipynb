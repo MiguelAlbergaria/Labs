{
 "cells": [
  {
   "cell_type": "code",
   "execution_count": 1,
   "metadata": {},
   "outputs": [
    {
     "name": "stdout",
     "output_type": "stream",
     "text": [
      "Hello World!\n"
     ]
    }
   ],
   "source": [
    "print (\"Hello World!\")\n"
   ]
  },
  {
   "cell_type": "code",
   "execution_count": 2,
   "metadata": {},
   "outputs": [
    {
     "name": "stdout",
     "output_type": "stream",
     "text": [
      "['potatoes', 'carrots', 'cod', 'sprouts']\n"
     ]
    }
   ],
   "source": [
    "#Construct a list (shoppingList) including 'potatoes', 'carrots', 'cod' and 'sprouts'\n",
    "shoppingList=[\"potatoes\", \"carrots\", \"cod\", \"sprouts\"]\n",
    "print (shoppingList)"
   ]
  },
  {
   "cell_type": "code",
   "execution_count": 3,
   "metadata": {},
   "outputs": [
    {
     "name": "stdout",
     "output_type": "stream",
     "text": [
      "carrots\n",
      "sprouts\n"
     ]
    }
   ],
   "source": [
    "#Get the second and the last element of the list\n",
    "secondelement=shoppingList[1]\n",
    "lastelement=shoppingList[-1]\n",
    "print (secondelement)\n",
    "print (lastelement)"
   ]
  },
  {
   "cell_type": "code",
   "execution_count": 4,
   "metadata": {},
   "outputs": [
    {
     "name": "stdout",
     "output_type": "stream",
     "text": [
      "potatoes\n",
      "carrots\n",
      "cod\n",
      "sprouts\n"
     ]
    }
   ],
   "source": [
    "# Iterate though the list -- nao esquecer do espaco antes do print\n",
    "for purchase in shoppingList:\n",
    "    print (purchase)"
   ]
  },
  {
   "cell_type": "code",
   "execution_count": 5,
   "metadata": {},
   "outputs": [
    {
     "name": "stdout",
     "output_type": "stream",
     "text": [
      "['Miguel', 'Gantes', 'Albergaria']\n"
     ]
    }
   ],
   "source": [
    "#Create a new list (studentList)\n",
    "studentList=[\"Miguel\", \"Gantes\", \"Albergaria\"]\n",
    "print (studentList)"
   ]
  },
  {
   "cell_type": "code",
   "execution_count": 6,
   "metadata": {},
   "outputs": [
    {
     "name": "stdout",
     "output_type": "stream",
     "text": [
      "['potatoes', 'carrots', 'cod', 'sprouts', 'orange', 'lime']\n"
     ]
    }
   ],
   "source": [
    "#Add the follwoing elements to the shoppingList: orange and lime\n",
    "shoppingList.append(\"orange\")\n",
    "shoppingList.append(\"lime\")\n",
    "print (shoppingList)"
   ]
  },
  {
   "cell_type": "code",
   "execution_count": 7,
   "metadata": {},
   "outputs": [
    {
     "name": "stdout",
     "output_type": "stream",
     "text": [
      "['cod', 'sprouts', 'orange']\n"
     ]
    }
   ],
   "source": [
    "#Remove the carrots, the first element and last element of the shoppingList list\n",
    "shoppingList.remove(\"carrots\") \n",
    "shoppingList.pop()   #o pop remove sempre o ultimo elemento da lista\n",
    "del shoppingList [0]\n",
    "print (shoppingList)"
   ]
  },
  {
   "cell_type": "code",
   "execution_count": 8,
   "metadata": {},
   "outputs": [
    {
     "ename": "NameError",
     "evalue": "name 'studentList' is not defined",
     "output_type": "error",
     "traceback": [
      "\u001b[1;31m---------------------------------------------------------------------------\u001b[0m",
      "\u001b[1;31mNameError\u001b[0m                                 Traceback (most recent call last)",
      "\u001b[1;32m<ipython-input-8-0aaeebf3a7d6>\u001b[0m in \u001b[0;36m<module>\u001b[1;34m\u001b[0m\n\u001b[0;32m      1\u001b[0m \u001b[1;31m# Delete the student list -- e suposto dar erro\u001b[0m\u001b[1;33m\u001b[0m\u001b[1;33m\u001b[0m\u001b[1;33m\u001b[0m\u001b[0m\n\u001b[0;32m      2\u001b[0m \u001b[1;32mdel\u001b[0m \u001b[0mstudentList\u001b[0m\u001b[1;33m\u001b[0m\u001b[1;33m\u001b[0m\u001b[0m\n\u001b[1;32m----> 3\u001b[1;33m \u001b[0mprint\u001b[0m \u001b[1;33m(\u001b[0m\u001b[0mstudentList\u001b[0m\u001b[1;33m)\u001b[0m\u001b[1;33m\u001b[0m\u001b[1;33m\u001b[0m\u001b[0m\n\u001b[0m",
      "\u001b[1;31mNameError\u001b[0m: name 'studentList' is not defined"
     ]
    }
   ],
   "source": [
    "# Delete the student list -- e suposto dar erro\n",
    "del studentList\n",
    "print (studentList)"
   ]
  },
  {
   "cell_type": "code",
   "execution_count": 9,
   "metadata": {},
   "outputs": [
    {
     "name": "stdout",
     "output_type": "stream",
     "text": [
      "[1, 4, 9, 16, 25, 36, 49, 64, 81, 100, 121, 144, 169, 196]\n"
     ]
    }
   ],
   "source": [
    "#Create a list with the double values os number between 1 and 15\n",
    "doubles=[x**2 for x in range (1,15)]\n",
    "print(doubles)"
   ]
  },
  {
   "cell_type": "code",
   "execution_count": 10,
   "metadata": {},
   "outputs": [
    {
     "name": "stdout",
     "output_type": "stream",
     "text": [
      "[1, 4, 9]\n"
     ]
    }
   ],
   "source": [
    "# Obtain the first 3 elements of the list\n",
    "firstThree=doubles[:3]\n",
    "print (firstThree)"
   ]
  },
  {
   "cell_type": "code",
   "execution_count": 13,
   "metadata": {},
   "outputs": [
    {
     "name": "stdout",
     "output_type": "stream",
     "text": [
      "['cod', 'sprouts', 'orange', 'orange']\n"
     ]
    }
   ],
   "source": [
    "# What is the result of, Why? -- aqui faz se slicing - vai se buscar os dados todos da lista\n",
    "shopping = shoppingList\n",
    "shoppingListCopy = shoppingList[:]\n",
    "print(shopping)"
   ]
  },
  {
   "cell_type": "code",
   "execution_count": 14,
   "metadata": {},
   "outputs": [
    {
     "name": "stdout",
     "output_type": "stream",
     "text": [
      "['cod', 'sprouts', 'orange', 'orange', 'orange']\n"
     ]
    }
   ],
   "source": [
    "shopping = shoppingList\n",
    "shoppingList.append(\"orange\")\n",
    "print(shopping)"
   ]
  },
  {
   "cell_type": "code",
   "execution_count": 15,
   "metadata": {},
   "outputs": [
    {
     "data": {
      "text/plain": [
       "[]"
      ]
     },
     "execution_count": 15,
     "metadata": {},
     "output_type": "execute_result"
    }
   ],
   "source": [
    "#remove all the items from the shoppingList\n",
    "shoppingList.clear()\n",
    "shoppingList"
   ]
  },
  {
   "cell_type": "code",
   "execution_count": 24,
   "metadata": {},
   "outputs": [
    {
     "name": "stdout",
     "output_type": "stream",
     "text": [
      "beans\n"
     ]
    },
    {
     "ename": "TypeError",
     "evalue": "'tuple' object does not support item assignment",
     "output_type": "error",
     "traceback": [
      "\u001b[1;31m---------------------------------------------------------------------------\u001b[0m",
      "\u001b[1;31mTypeError\u001b[0m                                 Traceback (most recent call last)",
      "\u001b[1;32m<ipython-input-24-ba38d369ddb1>\u001b[0m in \u001b[0;36m<module>\u001b[1;34m\u001b[0m\n\u001b[0;32m      2\u001b[0m \u001b[0mnewPurchases\u001b[0m\u001b[1;33m=\u001b[0m \u001b[1;33m(\u001b[0m\u001b[1;34m\"bananas\"\u001b[0m\u001b[1;33m,\u001b[0m \u001b[1;34m\"beans\"\u001b[0m\u001b[1;33m,\u001b[0m \u001b[1;34m\"rice\"\u001b[0m\u001b[1;33m)\u001b[0m\u001b[1;33m\u001b[0m\u001b[1;33m\u001b[0m\u001b[0m\n\u001b[0;32m      3\u001b[0m \u001b[0mprint\u001b[0m \u001b[1;33m(\u001b[0m\u001b[0mnewPurchases\u001b[0m \u001b[1;33m[\u001b[0m\u001b[1;36m1\u001b[0m\u001b[1;33m]\u001b[0m\u001b[1;33m)\u001b[0m\u001b[1;33m\u001b[0m\u001b[1;33m\u001b[0m\u001b[0m\n\u001b[1;32m----> 4\u001b[1;33m \u001b[0mnewPurchases\u001b[0m \u001b[1;33m[\u001b[0m\u001b[1;36m0\u001b[0m\u001b[1;33m]\u001b[0m \u001b[1;33m=\u001b[0m \u001b[1;34m\"apple\"\u001b[0m\u001b[1;33m\u001b[0m\u001b[1;33m\u001b[0m\u001b[0m\n\u001b[0m",
      "\u001b[1;31mTypeError\u001b[0m: 'tuple' object does not support item assignment"
     ]
    }
   ],
   "source": [
    "#What is the result of, Why?\n",
    "newPurchases= (\"bananas\", \"beans\", \"rice\")\n",
    "print (newPurchases [1])\n",
    "newPurchases [0] = \"apple\""
   ]
  },
  {
   "cell_type": "code",
   "execution_count": 25,
   "metadata": {},
   "outputs": [
    {
     "name": "stdout",
     "output_type": "stream",
     "text": [
      "beans\n"
     ]
    },
    {
     "data": {
      "text/plain": [
       "['apple', 'beans', 'rice']"
      ]
     },
     "execution_count": 25,
     "metadata": {},
     "output_type": "execute_result"
    }
   ],
   "source": [
    "#em cima estava tuple portanto nao dava para modificar, agora ficou um lista (parentesis diferentes) e ja da \n",
    "newPurchases= [\"bananas\", \"beans\", \"rice\"]\n",
    "print (newPurchases [1])\n",
    "newPurchases [0] = \"apple\"\n",
    "newPurchases"
   ]
  },
  {
   "cell_type": "code",
   "execution_count": 28,
   "metadata": {},
   "outputs": [
    {
     "name": "stdout",
     "output_type": "stream",
     "text": [
      "The fruit 1 is orange\n",
      "The fruit 2 is apple\n",
      "The fruit 3 is pear\n",
      "The fruit 4 is grape\n",
      "The fruit 5 is peach\n"
     ]
    }
   ],
   "source": [
    "#Create a dictionary including the follwoing elements: orange, apple, pear, grape and peach. Key are 1 to 5.\n",
    "#Iterate through key-value pair.\n",
    "fruit={1:\"orange\", 2:\"apple\", 3:\"pear\", 4:\"grape\", 5:\"peach\"}\n",
    "for key, value in fruit.items():\n",
    "    print (\"The fruit \"+str(key)+\" is \"+value)"
   ]
  },
  {
   "cell_type": "code",
   "execution_count": 19,
   "metadata": {},
   "outputs": [
    {
     "name": "stdout",
     "output_type": "stream",
     "text": [
      "[['monday'], ['tuesday'], ['wednesday'], ['thursday'], ['friday'], ['saturday'], ['sunday']]\n"
     ]
    }
   ],
   "source": [
    "#Create a weekList that is composed of several lists, each one corresponding to a day.\n",
    "monday=[\"monday\"]\n",
    "tuesday=[\"tuesday\"]\n",
    "wednesday=[\"wednesday\"]\n",
    "thursday=[\"thursday\"]\n",
    "friday=[\"friday\"]\n",
    "saturday=[\"saturday\"]\n",
    "sunday=[\"sunday\"]\n",
    "weeklist=[]\n",
    "weeklist.append(monday)\n",
    "weeklist.append(tuesday)\n",
    "weeklist.append(wednesday)\n",
    "weeklist.append(thursday)\n",
    "weeklist.append(friday)\n",
    "weeklist.append(saturday)\n",
    "weeklist.append(sunday)\n",
    "print(weeklist)"
   ]
  },
  {
   "cell_type": "code",
   "execution_count": null,
   "metadata": {},
   "outputs": [],
   "source": []
  }
 ],
 "metadata": {
  "kernelspec": {
   "display_name": "Python 3",
   "language": "python",
   "name": "python3"
  },
  "language_info": {
   "codemirror_mode": {
    "name": "ipython",
    "version": 3
   },
   "file_extension": ".py",
   "mimetype": "text/x-python",
   "name": "python",
   "nbconvert_exporter": "python",
   "pygments_lexer": "ipython3",
   "version": "3.7.3"
  }
 },
 "nbformat": 4,
 "nbformat_minor": 2
}
