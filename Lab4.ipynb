{
 "cells": [
  {
   "cell_type": "code",
   "execution_count": 2,
   "metadata": {},
   "outputs": [
    {
     "name": "stdout",
     "output_type": "stream",
     "text": [
      "[1000.0, 1100.0, 1210.0000000000002, 1331.0000000000005, 1464.1000000000004, 1610.5100000000004]\n"
     ]
    }
   ],
   "source": [
    "#Create a list of volume of sales considering the following assumptions:\n",
    "#inicial valueSales =1000\n",
    "#anual growth rate = 10%\n",
    "#number of years = 6\n",
    "valuesales=1000\n",
    "growthrate=0.1\n",
    "years=6\n",
    "sales=[]\n",
    "for x in range (years):\n",
    "    sales.append(valuesales*((1+growthrate)**x))\n",
    "    x+=1\n",
    "print (sales)"
   ]
  },
  {
   "cell_type": "code",
   "execution_count": 3,
   "metadata": {},
   "outputs": [
    {
     "name": "stdout",
     "output_type": "stream",
     "text": [
      "[300.0, 330.0, 363.00000000000006, 399.3000000000001, 439.2300000000001, 483.15300000000013]\n"
     ]
    }
   ],
   "source": [
    "#Based on the previews list, create a list with costs knowing the profit margin:\n",
    "#margin =70%\n",
    "costs=[]\n",
    "for i in range(years):\n",
    "    costs.append(0.3*sales[i])\n",
    "    i+=1\n",
    "print (costs)"
   ]
  },
  {
   "cell_type": "code",
   "execution_count": 4,
   "metadata": {},
   "outputs": [
    {
     "name": "stdout",
     "output_type": "stream",
     "text": [
      "[700.0, 770.0, 847.0000000000002, 931.7000000000003, 1024.8700000000003, 1127.3570000000004]\n"
     ]
    }
   ],
   "source": [
    "#Create a list with the profit based on the last 2 exercises (profit = sales - cost)\n",
    "profit=[]\n",
    "for i in range(years):\n",
    "    profit.append(sales[i]-costs[i])\n",
    "    i+=1\n",
    "print(profit)"
   ]
  },
  {
   "cell_type": "code",
   "execution_count": 5,
   "metadata": {},
   "outputs": [
    {
     "name": "stdout",
     "output_type": "stream",
     "text": [
      "[200.0, 270.0, 347.0000000000002, 431.7000000000003, 524.8700000000003, 627.3570000000004]\n"
     ]
    }
   ],
   "source": [
    "# Calculete a newProfit suposing 500 of fixed costs\n",
    "newprofit=[]\n",
    "for x in range(years):\n",
    "    newprofit.append(profit[x]-500)\n",
    "    x+=1\n",
    "print(newprofit)"
   ]
  },
  {
   "cell_type": "code",
   "execution_count": 6,
   "metadata": {},
   "outputs": [],
   "source": [
    "#Create a newSales list with random generated values between 200 and 2000. Corresponding to volume of sales\n",
    "#during a certainn numberOfYears.\n",
    "#some ints:\n",
    "#Import module, writing import random\n",
    "#use the method random.randint(a, b). This method is used to generate values between a and b ( Return a\n",
    "#random integer N such that a <= N <= b.)\n",
    "a=200\n",
    "b=2000\n",
    "import random\n"
   ]
  },
  {
   "cell_type": "code",
   "execution_count": 19,
   "metadata": {},
   "outputs": [
    {
     "name": "stdout",
     "output_type": "stream",
     "text": [
      "[678, 1345, 243, 1077, 965, 291]\n"
     ]
    }
   ],
   "source": [
    "newSales=[]\n",
    "for i in range(years):\n",
    "    valor=random.randint(a,b)\n",
    "    newSales.append(valor)\n",
    "    i+=1\n",
    "print (newSales)"
   ]
  },
  {
   "cell_type": "code",
   "execution_count": 20,
   "metadata": {},
   "outputs": [
    {
     "name": "stdout",
     "output_type": "stream",
     "text": [
      "[-25.400000000000034, 441.4999999999999, -329.9, 253.89999999999998, 175.5, -296.3]\n"
     ]
    }
   ],
   "source": [
    "#Create a new list with profits (newProfit). With margin 70% with fixed costs stated previously\n",
    "margin=0.7\n",
    "fixedcosts=500\n",
    "newProfit=[]\n",
    "for x in range(years):\n",
    "    newProfit.append((newSales[x]*margin)-fixedcosts)\n",
    "    x+=1\n",
    "print (newProfit)\n"
   ]
  },
  {
   "cell_type": "code",
   "execution_count": 25,
   "metadata": {},
   "outputs": [
    {
     "name": "stdout",
     "output_type": "stream",
     "text": [
      "50.0%\n"
     ]
    }
   ],
   "source": [
    "#What is the percentage of years having profits in the total?\n",
    "perc=[]\n",
    "for i in range(years):\n",
    "    if newProfit[i]>0:\n",
    "        perc.append(i)\n",
    "\n",
    "Profits=len(perc)/len(newProfit)*100\n",
    "print(str(Profits)+\"%\")"
   ]
  },
  {
   "cell_type": "code",
   "execution_count": 22,
   "metadata": {},
   "outputs": [
    {
     "name": "stdout",
     "output_type": "stream",
     "text": [
      "49.99999999999999%\n"
     ]
    }
   ],
   "source": [
    "#What is the percentage of years having profits in the total?\n",
    "p=0\n",
    "for i in(newProfit):\n",
    "    if i>0:\n",
    "        p+=1/len(newProfit)*100\n",
    "print(str(p)+\"%\")"
   ]
  },
  {
   "cell_type": "code",
   "execution_count": 24,
   "metadata": {},
   "outputs": [
    {
     "data": {
      "text/plain": [
       "Text(0.5, 0, 'years')"
      ]
     },
     "execution_count": 24,
     "metadata": {},
     "output_type": "execute_result"
    },
    {
     "data": {
      "image/png": "[encoded data removed]",
      "text/plain": [
       "<Figure size 432x288 with 1 Axes>"
      ]
     },
     "metadata": {
      "needs_background": "light"
     },
     "output_type": "display_data"
    }
   ],
   "source": [
    "#Plot the sales and the newSales (generated randomly) throughout the years.\n",
    "import matplotlib.pyplot as plt\n",
    "plt.plot(sales)\n",
    "plt.plot(newSales)\n",
    "plt.ylabel('sales')\n",
    "plt.xlabel('years')\n"
   ]
  },
  {
   "cell_type": "code",
   "execution_count": null,
   "metadata": {},
   "outputs": [],
   "source": []
  }
 ],
 "metadata": {
  "kernelspec": {
   "display_name": "Python 3",
   "language": "python",
   "name": "python3"
  },
  "language_info": {
   "codemirror_mode": {
    "name": "ipython",
    "version": 3
   },
   "file_extension": ".py",
   "mimetype": "text/x-python",
   "name": "python",
   "nbconvert_exporter": "python",
   "pygments_lexer": "ipython3",
   "version": "3.7.3"
  }
 },
 "nbformat": 4,
 "nbformat_minor": 2
}
