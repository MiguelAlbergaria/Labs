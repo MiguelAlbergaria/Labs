{
 "cells": [
  {
   "cell_type": "markdown",
   "metadata": {},
   "source": [
    "# Lab 3\n",
    "In the following cell cell you have several list. "
   ]
  },
  {
   "cell_type": "code",
   "execution_count": 1,
   "metadata": {},
   "outputs": [],
   "source": [
    "#list of 007 movies where Sean Connery features James Bond\n",
    "moviesSeanConnery = [\"Dr. No (1962)\",\n",
    "\"From Russia with Love (1963)\",\n",
    "\"Goldfinger (1964)\",\n",
    "\"Thunderball (1965)\",\n",
    "\"You Only Live Twice (1967)\",\n",
    "\"Diamonds Are Forever (1971)\",    \n",
    "\"Never Say Never Again (1983)\"]  \n",
    "\n",
    "#list of 007 movies where David Neven features James Bond\n",
    "moviesDavidNeven=[\"Casino Royale (1967)\"]    \n",
    "\n",
    "#list of 007 movies where George Lazenby features James Bond\n",
    "moviesGeorgeLazenby=[\"On Her Majesty's Secret Service (1969)\"]  \n",
    "          \n",
    "#list of 007 movies where Roger Moore features James Bond   \n",
    "moviesRogerMoore=[ \"Live and Let Die (1973)\",\n",
    "\"The Man with the Golden Gun (1974)\",\n",
    "\"The Spy Who Loved Me (1977)\",\n",
    "\"Moonraker (1979)\",\n",
    "\"For Your Eyes Only (1981)\",\n",
    "\"Octopussy (1983)\",\n",
    "\"A View to a Kill (1985)\"]\n",
    "\n",
    "#list of 007 movies where Timothy Dalton features James Bond  \n",
    "moviesTimothyDalton=[\n",
    "\"The Living Daylights (1987)\",\n",
    "\"Licence to Kill (1989)\"  \n",
    "]\n",
    "\n",
    "#list of 007 movies where Pierce Brosnan features James Bond  \n",
    "moviesPierceBrosnan=[\n",
    "\"GoldenEye (1995)\",\n",
    "\"Tomorrow Never Dies (1997)\",\n",
    "\"The World Is Not Enough (1999)\",\n",
    "\"Die Another Day (2002)\"\n",
    "]\n",
    "\n",
    "#list of 007 movies where Daniel Craig features James Bond \n",
    "moviesDanielCraig=[\"Casino Royale (2006)\",\n",
    "\"Quantum of Solace (2008)\",\n",
    "\"Skyfall (2012)\",\n",
    "\"Spectre (2015)\"]\n"
   ]
  },
  {
   "cell_type": "markdown",
   "metadata": {},
   "source": [
    "**1)** create a list of lists (movies007). The list will be composed by each list of movies featured by each actor."
   ]
  },
  {
   "cell_type": "code",
   "execution_count": 2,
   "metadata": {},
   "outputs": [
    {
     "name": "stdout",
     "output_type": "stream",
     "text": [
      "['Dr. No (1962)', 'From Russia with Love (1963)', 'Goldfinger (1964)', 'Thunderball (1965)', 'You Only Live Twice (1967)', 'Diamonds Are Forever (1971)', 'Never Say Never Again (1983)']\n",
      "['Casino Royale (1967)']\n",
      "[\"On Her Majesty's Secret Service (1969)\"]\n",
      "['Live and Let Die (1973)', 'The Man with the Golden Gun (1974)', 'The Spy Who Loved Me (1977)', 'Moonraker (1979)', 'For Your Eyes Only (1981)', 'Octopussy (1983)', 'A View to a Kill (1985)']\n",
      "['The Living Daylights (1987)', 'Licence to Kill (1989)']\n",
      "['GoldenEye (1995)', 'Tomorrow Never Dies (1997)', 'The World Is Not Enough (1999)', 'Die Another Day (2002)']\n",
      "['Casino Royale (2006)', 'Quantum of Solace (2008)', 'Skyfall (2012)', 'Spectre (2015)']\n"
     ]
    }
   ],
   "source": [
    "movies007=[moviesSeanConnery,moviesDavidNeven,moviesGeorgeLazenby,moviesRogerMoore,moviesTimothyDalton,moviesPierceBrosnan,moviesDanielCraig]\n",
    "for movies in movies007:\n",
    "    print(movies)"
   ]
  },
  {
   "cell_type": "code",
   "execution_count": 3,
   "metadata": {},
   "outputs": [
    {
     "name": "stdout",
     "output_type": "stream",
     "text": [
      "[['Dr. No (1962)', 'From Russia with Love (1963)', 'Goldfinger (1964)', 'Thunderball (1965)', 'You Only Live Twice (1967)', 'Diamonds Are Forever (1971)', 'Never Say Never Again (1983)'], ['Casino Royale (1967)'], [\"On Her Majesty's Secret Service (1969)\"], ['Live and Let Die (1973)', 'The Man with the Golden Gun (1974)', 'The Spy Who Loved Me (1977)', 'Moonraker (1979)', 'For Your Eyes Only (1981)', 'Octopussy (1983)', 'A View to a Kill (1985)'], ['The Living Daylights (1987)', 'Licence to Kill (1989)'], ['GoldenEye (1995)', 'Tomorrow Never Dies (1997)', 'The World Is Not Enough (1999)', 'Die Another Day (2002)'], ['Casino Royale (2006)', 'Quantum of Solace (2008)', 'Skyfall (2012)', 'Spectre (2015)']]\n"
     ]
    }
   ],
   "source": [
    "#Fazer de outra maneira\n",
    "movies007a=[]\n",
    "movies007a.append(moviesSeanConnery)\n",
    "movies007a.append(moviesDavidNeven)\n",
    "movies007a.append(moviesGeorgeLazenby)\n",
    "movies007a.append(moviesRogerMoore)\n",
    "movies007a.append(moviesTimothyDalton)\n",
    "movies007a.append(moviesPierceBrosnan)\n",
    "movies007a.append(moviesDanielCraig)\n",
    "print (movies007a)"
   ]
  },
  {
   "cell_type": "markdown",
   "metadata": {},
   "source": [
    "**2)** How many movies were played by the first actor to play James Bond?"
   ]
  },
  {
   "cell_type": "code",
   "execution_count": 4,
   "metadata": {},
   "outputs": [
    {
     "data": {
      "text/plain": [
       "7"
      ]
     },
     "execution_count": 4,
     "metadata": {},
     "output_type": "execute_result"
    }
   ],
   "source": [
    "len(moviesSeanConnery)"
   ]
  },
  {
   "cell_type": "code",
   "execution_count": 5,
   "metadata": {},
   "outputs": [
    {
     "data": {
      "text/plain": [
       "7"
      ]
     },
     "execution_count": 5,
     "metadata": {},
     "output_type": "execute_result"
    }
   ],
   "source": [
    "len(movies007[0])\n"
   ]
  },
  {
   "cell_type": "markdown",
   "metadata": {},
   "source": [
    "**3)** How many movies were played by the last actor to play James Bond?"
   ]
  },
  {
   "cell_type": "code",
   "execution_count": 6,
   "metadata": {},
   "outputs": [
    {
     "data": {
      "text/plain": [
       "4"
      ]
     },
     "execution_count": 6,
     "metadata": {},
     "output_type": "execute_result"
    }
   ],
   "source": [
    "len(moviesDanielCraig)"
   ]
  },
  {
   "cell_type": "code",
   "execution_count": 7,
   "metadata": {},
   "outputs": [
    {
     "data": {
      "text/plain": [
       "4"
      ]
     },
     "execution_count": 7,
     "metadata": {},
     "output_type": "execute_result"
    }
   ],
   "source": [
    "len(movies007[-1])"
   ]
  },
  {
   "cell_type": "markdown",
   "metadata": {},
   "source": [
    "**4)** How many actors played the role of James Bond?"
   ]
  },
  {
   "cell_type": "code",
   "execution_count": 8,
   "metadata": {},
   "outputs": [
    {
     "data": {
      "text/plain": [
       "7"
      ]
     },
     "execution_count": 8,
     "metadata": {},
     "output_type": "execute_result"
    }
   ],
   "source": [
    "len(movies007)"
   ]
  },
  {
   "cell_type": "markdown",
   "metadata": {},
   "source": [
    "**5)**  Create a new list with the number of movies played by each actor"
   ]
  },
  {
   "cell_type": "code",
   "execution_count": 9,
   "metadata": {},
   "outputs": [
    {
     "name": "stdout",
     "output_type": "stream",
     "text": [
      "[7, 1, 1, 7, 2, 4, 4]\n"
     ]
    }
   ],
   "source": [
    "numbers=[len(movies007[0]),len(movies007[1]),len(movies007[2]),len(movies007[3]),len(movies007[4]),len(movies007[5]),len(movies007[6])]\n",
    "print(numbers)"
   ]
  },
  {
   "cell_type": "markdown",
   "metadata": {},
   "source": []
  },
  {
   "cell_type": "code",
   "execution_count": 10,
   "metadata": {},
   "outputs": [
    {
     "name": "stdout",
     "output_type": "stream",
     "text": [
      "[7, 1, 1, 7, 2, 4, 4]\n"
     ]
    }
   ],
   "source": [
    "numbers=[]\n",
    "i=0\n",
    "for n in movies007:\n",
    "    numbers.append(len(movies007[i]))\n",
    "    i+=1\n",
    "print(numbers)"
   ]
  },
  {
   "cell_type": "code",
   "execution_count": 29,
   "metadata": {},
   "outputs": [
    {
     "name": "stdout",
     "output_type": "stream",
     "text": [
      "[7, 1, 1, 7, 2, 4, 4]\n"
     ]
    }
   ],
   "source": [
    "newlist=[]\n",
    "newlist.append(len(moviesSeanConnery))\n",
    "newlist.append(len(moviesDavidNeven))\n",
    "newlist.append(len(moviesGeorgeLazenby))\n",
    "newlist.append(len(moviesRogerMoore))\n",
    "newlist.append(len(moviesTimothyDalton))\n",
    "newlist.append(len(moviesPierceBrosnan))\n",
    "newlist.append(len(moviesDanielCraig))\n",
    "\n",
    "\n",
    "print(newlist)"
   ]
  },
  {
   "cell_type": "markdown",
   "metadata": {},
   "source": [
    "**6)**  How many movies were played by the actor who appeared most often in movies?"
   ]
  },
  {
   "cell_type": "code",
   "execution_count": 11,
   "metadata": {},
   "outputs": [
    {
     "data": {
      "text/plain": [
       "7"
      ]
     },
     "execution_count": 11,
     "metadata": {},
     "output_type": "execute_result"
    }
   ],
   "source": [
    "movies007.sort(key=len)\n",
    "len(movies007[-1])"
   ]
  },
  {
   "cell_type": "code",
   "execution_count": 26,
   "metadata": {},
   "outputs": [
    {
     "data": {
      "text/plain": [
       "7"
      ]
     },
     "execution_count": 26,
     "metadata": {},
     "output_type": "execute_result"
    }
   ],
   "source": [
    "max(numbers)"
   ]
  },
  {
   "cell_type": "markdown",
   "metadata": {},
   "source": [
    "**7)**  How many movies were played by the actor who appeared in fewer movies?"
   ]
  },
  {
   "cell_type": "code",
   "execution_count": 12,
   "metadata": {},
   "outputs": [
    {
     "data": {
      "text/plain": [
       "1"
      ]
     },
     "execution_count": 12,
     "metadata": {},
     "output_type": "execute_result"
    }
   ],
   "source": [
    "len(movies007[0])"
   ]
  },
  {
   "cell_type": "code",
   "execution_count": 27,
   "metadata": {},
   "outputs": [
    {
     "data": {
      "text/plain": [
       "1"
      ]
     },
     "execution_count": 27,
     "metadata": {},
     "output_type": "execute_result"
    }
   ],
   "source": [
    "min(numbers)"
   ]
  },
  {
   "cell_type": "markdown",
   "metadata": {},
   "source": [
    "**8)**  Create a new list (movies007a) with all the films. "
   ]
  },
  {
   "cell_type": "code",
   "execution_count": 13,
   "metadata": {},
   "outputs": [
    {
     "name": "stdout",
     "output_type": "stream",
     "text": [
      "['Dr. No (1962)', 'From Russia with Love (1963)', 'Goldfinger (1964)', 'Thunderball (1965)', 'You Only Live Twice (1967)', 'Diamonds Are Forever (1971)', 'Never Say Never Again (1983)', 'Casino Royale (1967)', \"On Her Majesty's Secret Service (1969)\", 'Live and Let Die (1973)', 'The Man with the Golden Gun (1974)', 'The Spy Who Loved Me (1977)', 'Moonraker (1979)', 'For Your Eyes Only (1981)', 'Octopussy (1983)', 'A View to a Kill (1985)', 'The Living Daylights (1987)', 'Licence to Kill (1989)', 'GoldenEye (1995)', 'Tomorrow Never Dies (1997)', 'The World Is Not Enough (1999)', 'Die Another Day (2002)', 'Casino Royale (2006)', 'Quantum of Solace (2008)', 'Skyfall (2012)', 'Spectre (2015)']\n"
     ]
    }
   ],
   "source": [
    "movies007a=[]\n",
    "movies007a.extend(moviesSeanConnery)\n",
    "movies007a.extend(moviesDavidNeven)\n",
    "movies007a.extend(moviesGeorgeLazenby)\n",
    "movies007a.extend(moviesRogerMoore)\n",
    "movies007a.extend(moviesTimothyDalton)\n",
    "movies007a.extend(moviesPierceBrosnan)\n",
    "movies007a.extend(moviesDanielCraig)\n",
    "print (movies007a)"
   ]
  },
  {
   "cell_type": "code",
   "execution_count": 30,
   "metadata": {},
   "outputs": [
    {
     "name": "stdout",
     "output_type": "stream",
     "text": [
      "['Dr. No (1962)', 'From Russia with Love (1963)', 'Goldfinger (1964)', 'Thunderball (1965)', 'You Only Live Twice (1967)', 'Diamonds Are Forever (1971)', 'Never Say Never Again (1983)', 'Casino Royale (1967)', \"On Her Majesty's Secret Service (1969)\", 'Live and Let Die (1973)', 'The Man with the Golden Gun (1974)', 'The Spy Who Loved Me (1977)', 'Moonraker (1979)', 'For Your Eyes Only (1981)', 'Octopussy (1983)', 'A View to a Kill (1985)', 'The Living Daylights (1987)', 'Licence to Kill (1989)', 'GoldenEye (1995)', 'Tomorrow Never Dies (1997)', 'The World Is Not Enough (1999)', 'Die Another Day (2002)', 'Casino Royale (2006)', 'Quantum of Solace (2008)', 'Skyfall (2012)', 'Spectre (2015)']\n"
     ]
    }
   ],
   "source": [
    "movies007a=moviesSeanConnery+moviesDavidNeven+moviesGeorgeLazenby+moviesRogerMoore+moviesTimothyDalton+moviesPierceBrosnan+moviesDanielCraig\n",
    "print(movies007a)"
   ]
  },
  {
   "cell_type": "markdown",
   "metadata": {},
   "source": [
    "**9)** Sort the elements of the list "
   ]
  },
  {
   "cell_type": "code",
   "execution_count": 14,
   "metadata": {},
   "outputs": [
    {
     "name": "stdout",
     "output_type": "stream",
     "text": [
      "['A View to a Kill (1985)', 'Casino Royale (1967)', 'Casino Royale (2006)', 'Diamonds Are Forever (1971)', 'Die Another Day (2002)', 'Dr. No (1962)', 'For Your Eyes Only (1981)', 'From Russia with Love (1963)', 'GoldenEye (1995)', 'Goldfinger (1964)', 'Licence to Kill (1989)', 'Live and Let Die (1973)', 'Moonraker (1979)', 'Never Say Never Again (1983)', 'Octopussy (1983)', \"On Her Majesty's Secret Service (1969)\", 'Quantum of Solace (2008)', 'Skyfall (2012)', 'Spectre (2015)', 'The Living Daylights (1987)', 'The Man with the Golden Gun (1974)', 'The Spy Who Loved Me (1977)', 'The World Is Not Enough (1999)', 'Thunderball (1965)', 'Tomorrow Never Dies (1997)', 'You Only Live Twice (1967)']\n"
     ]
    }
   ],
   "source": [
    "movies007a.sort()\n",
    "print(movies007a)"
   ]
  },
  {
   "cell_type": "code",
   "execution_count": null,
   "metadata": {},
   "outputs": [],
   "source": []
  },
  {
   "cell_type": "markdown",
   "metadata": {},
   "source": [
    "**9)** Reverse the order of the list. What will happen if this method is executed twice? Does this method sort the list if it is not sorted?"
   ]
  },
  {
   "cell_type": "code",
   "execution_count": 15,
   "metadata": {},
   "outputs": [
    {
     "data": {
      "text/plain": [
       "['You Only Live Twice (1967)',\n",
       " 'Tomorrow Never Dies (1997)',\n",
       " 'Thunderball (1965)',\n",
       " 'The World Is Not Enough (1999)',\n",
       " 'The Spy Who Loved Me (1977)',\n",
       " 'The Man with the Golden Gun (1974)',\n",
       " 'The Living Daylights (1987)',\n",
       " 'Spectre (2015)',\n",
       " 'Skyfall (2012)',\n",
       " 'Quantum of Solace (2008)',\n",
       " \"On Her Majesty's Secret Service (1969)\",\n",
       " 'Octopussy (1983)',\n",
       " 'Never Say Never Again (1983)',\n",
       " 'Moonraker (1979)',\n",
       " 'Live and Let Die (1973)',\n",
       " 'Licence to Kill (1989)',\n",
       " 'Goldfinger (1964)',\n",
       " 'GoldenEye (1995)',\n",
       " 'From Russia with Love (1963)',\n",
       " 'For Your Eyes Only (1981)',\n",
       " 'Dr. No (1962)',\n",
       " 'Die Another Day (2002)',\n",
       " 'Diamonds Are Forever (1971)',\n",
       " 'Casino Royale (2006)',\n",
       " 'Casino Royale (1967)',\n",
       " 'A View to a Kill (1985)']"
      ]
     },
     "execution_count": 15,
     "metadata": {},
     "output_type": "execute_result"
    }
   ],
   "source": [
    "movies007a.reverse()\n",
    "movies007a"
   ]
  },
  {
   "cell_type": "code",
   "execution_count": 34,
   "metadata": {},
   "outputs": [
    {
     "data": {
      "text/plain": [
       "['Spectre (2015)',\n",
       " 'Skyfall (2012)',\n",
       " 'Quantum of Solace (2008)',\n",
       " 'Casino Royale (2006)',\n",
       " 'Die Another Day (2002)',\n",
       " 'The World Is Not Enough (1999)',\n",
       " 'Tomorrow Never Dies (1997)',\n",
       " 'GoldenEye (1995)',\n",
       " 'Licence to Kill (1989)',\n",
       " 'The Living Daylights (1987)',\n",
       " 'A View to a Kill (1985)',\n",
       " 'Octopussy (1983)',\n",
       " 'For Your Eyes Only (1981)',\n",
       " 'Moonraker (1979)',\n",
       " 'The Spy Who Loved Me (1977)',\n",
       " 'Live and Let Die (1973)',\n",
       " \"On Her Majesty's Secret Service (1969)\",\n",
       " 'Casino Royale (1967)',\n",
       " 'Never Say Never Again (1983)',\n",
       " 'Diamonds Are Forever (1971)',\n",
       " 'You Only Live Twice (1967)',\n",
       " 'Thunderball (1965)',\n",
       " 'Goldfinger (1964)',\n",
       " 'From Russia with Love (1963)',\n",
       " 'Dr. No (1962)']"
      ]
     },
     "execution_count": 34,
     "metadata": {},
     "output_type": "execute_result"
    }
   ],
   "source": [
    "movies007a.reverse()\n",
    "movies007a"
   ]
  },
  {
   "cell_type": "markdown",
   "metadata": {},
   "source": [
    "**10)** What is the index of the movie \"Spectre (2015)\" in the list of movies"
   ]
  },
  {
   "cell_type": "code",
   "execution_count": 17,
   "metadata": {},
   "outputs": [
    {
     "name": "stdout",
     "output_type": "stream",
     "text": [
      "18\n"
     ]
    }
   ],
   "source": [
    "print(movies007a.index(\"Spectre (2015)\"))"
   ]
  },
  {
   "cell_type": "markdown",
   "metadata": {},
   "source": [
    "**11)** Add the movie \"007 and the bad Guy of the climate change (2020)\" in the 11th position."
   ]
  },
  {
   "cell_type": "code",
   "execution_count": 37,
   "metadata": {},
   "outputs": [
    {
     "data": {
      "text/plain": [
       "['Spectre (2015)',\n",
       " 'Skyfall (2012)',\n",
       " 'Quantum of Solace (2008)',\n",
       " 'Casino Royale (2006)',\n",
       " 'Die Another Day (2002)',\n",
       " 'The World Is Not Enough (1999)',\n",
       " 'Tomorrow Never Dies (1997)',\n",
       " 'GoldenEye (1995)',\n",
       " 'Licence to Kill (1989)',\n",
       " 'The Living Daylights (1987)',\n",
       " '007 and the bad Guy of the climate change (2020)',\n",
       " 'A View to a Kill (1985)',\n",
       " 'Octopussy (1983)',\n",
       " 'For Your Eyes Only (1981)',\n",
       " 'Moonraker (1979)',\n",
       " 'The Spy Who Loved Me (1977)',\n",
       " 'Live and Let Die (1973)',\n",
       " \"On Her Majesty's Secret Service (1969)\",\n",
       " 'Casino Royale (1967)',\n",
       " 'Never Say Never Again (1983)',\n",
       " 'Diamonds Are Forever (1971)',\n",
       " 'You Only Live Twice (1967)',\n",
       " 'Thunderball (1965)',\n",
       " 'Goldfinger (1964)',\n",
       " 'From Russia with Love (1963)',\n",
       " 'Dr. No (1962)']"
      ]
     },
     "execution_count": 37,
     "metadata": {},
     "output_type": "execute_result"
    }
   ],
   "source": [
    "movies007a.insert(10,\"007 and the bad Guy of the climate change (2020)\")\n",
    "movies007a"
   ]
  },
  {
   "cell_type": "code",
   "execution_count": null,
   "metadata": {},
   "outputs": [],
   "source": []
  },
  {
   "cell_type": "markdown",
   "metadata": {},
   "source": [
    "**12)** It was a mistake. Remove the movie \"007 and the bad Guy of the climate change (2020)\""
   ]
  },
  {
   "cell_type": "code",
   "execution_count": 39,
   "metadata": {},
   "outputs": [
    {
     "data": {
      "text/plain": [
       "['Spectre (2015)',\n",
       " 'Skyfall (2012)',\n",
       " 'Quantum of Solace (2008)',\n",
       " 'Casino Royale (2006)',\n",
       " 'Die Another Day (2002)',\n",
       " 'The World Is Not Enough (1999)',\n",
       " 'Tomorrow Never Dies (1997)',\n",
       " 'GoldenEye (1995)',\n",
       " 'Licence to Kill (1989)',\n",
       " 'The Living Daylights (1987)',\n",
       " 'A View to a Kill (1985)',\n",
       " 'Octopussy (1983)',\n",
       " 'For Your Eyes Only (1981)',\n",
       " 'Moonraker (1979)',\n",
       " 'The Spy Who Loved Me (1977)',\n",
       " 'Live and Let Die (1973)',\n",
       " \"On Her Majesty's Secret Service (1969)\",\n",
       " 'Casino Royale (1967)',\n",
       " 'Never Say Never Again (1983)',\n",
       " 'Diamonds Are Forever (1971)',\n",
       " 'You Only Live Twice (1967)',\n",
       " 'Thunderball (1965)',\n",
       " 'Goldfinger (1964)',\n",
       " 'From Russia with Love (1963)',\n",
       " 'Dr. No (1962)']"
      ]
     },
     "execution_count": 39,
     "metadata": {},
     "output_type": "execute_result"
    }
   ],
   "source": [
    "movies007a.remove('007 and the bad Guy of the climate change (2020)')\n",
    "movies007a"
   ]
  },
  {
   "cell_type": "code",
   "execution_count": null,
   "metadata": {},
   "outputs": [],
   "source": []
  },
  {
   "cell_type": "code",
   "execution_count": null,
   "metadata": {},
   "outputs": [],
   "source": []
  }
 ],
 "metadata": {
  "kernelspec": {
   "display_name": "Python 3",
   "language": "python",
   "name": "python3"
  },
  "language_info": {
   "codemirror_mode": {
    "name": "ipython",
    "version": 3
   },
   "file_extension": ".py",
   "mimetype": "text/x-python",
   "name": "python",
   "nbconvert_exporter": "python",
   "pygments_lexer": "ipython3",
   "version": "3.7.3"
  }
 },
 "nbformat": 4,
 "nbformat_minor": 2
}
