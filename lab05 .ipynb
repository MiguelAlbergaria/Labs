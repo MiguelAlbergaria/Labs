{
 "cells": [
  {
   "cell_type": "markdown",
   "metadata": {},
   "source": [
    "# Lab 5\n",
    "\n",
    "How to verify if a number is a possible credit card number?\n",
    "In order to verify the check digit is correct, verify the following steps:\n",
    "\n",
    "* Supose the following number=\"5105105105105100\".\n",
    "* Convert the number into a list\n",
    "* Reverse the List\n",
    "* Starting from the left digit, double every second digit.\n",
    "* If double of a digit is more than 9, add the digits.\n",
    "* Sum all the numbers except the first one multiply by 9 and remove the unit\n",
    "\n"
   ]
  },
  {
   "cell_type": "code",
   "execution_count": 20,
   "metadata": {},
   "outputs": [],
   "source": [
    "#Start by converting the number into a list\n",
    "number=\"5105105105105100\""
   ]
  },
  {
   "cell_type": "code",
   "execution_count": 21,
   "metadata": {},
   "outputs": [
    {
     "name": "stdout",
     "output_type": "stream",
     "text": [
      "[5, 1, 0, 5, 1, 0, 5, 1, 0, 5, 1, 0, 5, 1, 0, 0]\n",
      "[0, 0, 1, 5, 0, 1, 5, 0, 1, 5, 0, 1, 5, 0, 1, 5]\n"
     ]
    }
   ],
   "source": [
    "#convert a number into a list\n",
    "digits=[int(x) for x in str(number)]\n",
    "print(digits)\n",
    "#Reverse the List\n",
    "digits.reverse()\n",
    "print(digits)"
   ]
  },
  {
   "cell_type": "code",
   "execution_count": 22,
   "metadata": {},
   "outputs": [
    {
     "data": {
      "text/plain": [
       "5105105105105100"
      ]
     },
     "execution_count": 22,
     "metadata": {},
     "output_type": "execute_result"
    }
   ],
   "source": [
    "#Convert strings into integers\n",
    "x=int(number)\n",
    "x"
   ]
  },
  {
   "cell_type": "code",
   "execution_count": 23,
   "metadata": {},
   "outputs": [
    {
     "name": "stdout",
     "output_type": "stream",
     "text": [
      "[0, 0, 1, 10, 0, 2, 5, 0, 1, 10, 0, 2, 5, 0, 1, 10]\n"
     ]
    }
   ],
   "source": [
    "# Starting from the left digit, double every second digit.\n",
    "for i in range(len(digits)):\n",
    "    if i%2!=0:\n",
    "        digits[i]*=2\n",
    "print(digits)"
   ]
  },
  {
   "cell_type": "code",
   "execution_count": 24,
   "metadata": {},
   "outputs": [
    {
     "name": "stdout",
     "output_type": "stream",
     "text": [
      "[0, 0, 1, 1, 0, 2, 5, 0, 1, 1, 0, 2, 5, 0, 1, 1]\n"
     ]
    }
   ],
   "source": [
    "# If double of a digit is more then 9, add the digits.\n",
    "for i in range (len(digits)):\n",
    "    if digits[i]>9:\n",
    "        digits[i]=int(digits[i]/10)+digits[i]%10\n",
    "print (digits)"
   ]
  },
  {
   "cell_type": "code",
   "execution_count": 34,
   "metadata": {},
   "outputs": [
    {
     "name": "stdout",
     "output_type": "stream",
     "text": [
      "20\n"
     ]
    }
   ],
   "source": [
    "# Sum all the numbers except the first one\n",
    "a=int()\n",
    "z=int()\n",
    "for i in range(len(digits)):\n",
    "    z+=(digits[i])\n",
    "a=z-digits[0]\n",
    "print(a)"
   ]
  },
  {
   "cell_type": "code",
   "execution_count": 36,
   "metadata": {},
   "outputs": [
    {
     "name": "stdout",
     "output_type": "stream",
     "text": [
      "1620\n"
     ]
    },
    {
     "data": {
      "text/plain": [
       "'0'"
      ]
     },
     "execution_count": 36,
     "metadata": {},
     "output_type": "execute_result"
    }
   ],
   "source": [
    "# multiply by 9 and remove the unit\n",
    "a*=9\n",
    "print(a)\n",
    "lastunit=str(a)\n",
    "lastunit[-1]"
   ]
  },
  {
   "cell_type": "markdown",
   "metadata": {},
   "source": [
    "If the last number of variable numer is the same you reached, the check digit of the credit card is correct"
   ]
  }
 ],
 "metadata": {
  "kernelspec": {
   "display_name": "Python 3",
   "language": "python",
   "name": "python3"
  },
  "language_info": {
   "codemirror_mode": {
    "name": "ipython",
    "version": 3
   },
   "file_extension": ".py",
   "mimetype": "text/x-python",
   "name": "python",
   "nbconvert_exporter": "python",
   "pygments_lexer": "ipython3",
   "version": "3.7.3"
  }
 },
 "nbformat": 4,
 "nbformat_minor": 2
}
