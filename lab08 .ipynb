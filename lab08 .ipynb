{
 "cells": [
  {
   "cell_type": "markdown",
   "metadata": {},
   "source": [
    "# Lab 8 \n",
    "\n",
    "A simple chatbot\n",
    "\n",
    "**1.** Create a function that asks the user his name and says Hello, John Doe\n",
    "\n",
    "**2.** Create a function called chat that ask the user what is his problem and will answer \"yes of course\"\n",
    "\n",
    "**3.** Create a function called chat that ask the user what is his problem and will answer randomly among 6 possible answers\n",
    "\n",
    "**4.** Put all together and improve\n"
   ]
  },
  {
   "cell_type": "markdown",
   "metadata": {},
   "source": [
    "**1.** Create a function that ask the user his name and says Hello, John Doe"
   ]
  },
  {
   "cell_type": "code",
   "execution_count": 5,
   "metadata": {},
   "outputs": [
    {
     "name": "stdout",
     "output_type": "stream",
     "text": [
      "What is your name?bj\n"
     ]
    },
    {
     "data": {
      "text/plain": [
       "'Nice to meet you,  bj'"
      ]
     },
     "execution_count": 5,
     "metadata": {},
     "output_type": "execute_result"
    }
   ],
   "source": [
    "# Create a function that ask the user his name and says Hello, John Doe\n",
    "def chat(question, answer):\n",
    "    msg=\"\"\n",
    "    while msg==\"\":\n",
    "        msg=input(question)\n",
    "    return str(answer)+\" \"+str(msg)\n",
    "\n",
    "chat(\"What is your name?\",\"Nice to meet you, \")  \n"
   ]
  },
  {
   "cell_type": "markdown",
   "metadata": {},
   "source": [
    "**2.** Create a function called chat that ask the user what is his problem and will answer \"yes of course\""
   ]
  },
  {
   "cell_type": "code",
   "execution_count": 8,
   "metadata": {},
   "outputs": [
    {
     "name": "stdout",
     "output_type": "stream",
     "text": [
      "What is your problem? h\n"
     ]
    },
    {
     "data": {
      "text/plain": [
       "'Yes of course! I will help you'"
      ]
     },
     "execution_count": 8,
     "metadata": {},
     "output_type": "execute_result"
    }
   ],
   "source": [
    "# Create a function called chat that ask the user what is his problem and will answer \"yes of course\"\n",
    "def chatprob(question,answer):\n",
    "    msg=\"\"\n",
    "    while msg==\"\":\n",
    "        msg=input(question)\n",
    "    return str(answer)\n",
    "\n",
    "chatprob(\"What is your problem? \",\"Yes of course! I will help you\")  \n"
   ]
  },
  {
   "cell_type": "markdown",
   "metadata": {},
   "source": [
    "**3.** Create a function called chat that ask the user what is his problem and will answer randomly among 6 possible answers"
   ]
  },
  {
   "cell_type": "code",
   "execution_count": null,
   "metadata": {},
   "outputs": [],
   "source": [
    "# Create a function called chat that ask the user what is his problem and will answer randomly among 6 possible answers\n",
    "import random\n",
    "randomanswers=(\"You will be fine!\", \"Hi.\", \"Nice to meet you!\", \"I don't like you very much.\", \"I love you!\", \"You are going to die\")\n",
    "def chatproblem():\n",
    "    problem=\"\"\n",
    "    while problem!=\"I don´t have a problem anymore\":\n",
    "        problem=input(\"What is your problem?\")\n",
    "        print(random.choice(randomanswers))\n",
    "chatproblem()"
   ]
  },
  {
   "cell_type": "markdown",
   "metadata": {},
   "source": [
    "**4.** Put all together and improve"
   ]
  },
  {
   "cell_type": "code",
   "execution_count": 1,
   "metadata": {},
   "outputs": [
    {
     "name": "stdout",
     "output_type": "stream",
     "text": [
      "What is your problem?fufu\n",
      "You will be fine!\n"
     ]
    }
   ],
   "source": [
    "import random\n",
    "randomanswers=[\"You will be fine!\", \"Hi.\", \"Nice to meet you!\", \"I don't like you very much.\", \"I love you!\", \"You are going to die\"]\n",
    "def randchat():\n",
    "    question=input(\"What is your problem?\")\n",
    "    print (randomanswers[random.randint(0,len(randomanswers))])\n",
    "\n",
    "randchat()"
   ]
  },
  {
   "cell_type": "code",
   "execution_count": null,
   "metadata": {},
   "outputs": [],
   "source": []
  }
 ],
 "metadata": {
  "kernelspec": {
   "display_name": "Python 3",
   "language": "python",
   "name": "python3"
  },
  "language_info": {
   "codemirror_mode": {
    "name": "ipython",
    "version": 3
   },
   "file_extension": ".py",
   "mimetype": "text/x-python",
   "name": "python",
   "nbconvert_exporter": "python",
   "pygments_lexer": "ipython3",
   "version": "3.7.3"
  }
 },
 "nbformat": 4,
 "nbformat_minor": 2
}
