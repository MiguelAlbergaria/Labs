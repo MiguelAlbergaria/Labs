{
 "cells": [
  {
   "cell_type": "code",
   "execution_count": 5,
   "metadata": {},
   "outputs": [
    {
     "name": "stdout",
     "output_type": "stream",
     "text": [
      "1 2 3 4\n"
     ]
    }
   ],
   "source": [
    "def fun(a, b, c, d):\n",
    "    print(a, b, c, d)\n",
    "\n",
    "my_list = [1,2,3,4]\n",
    "\n",
    "fun (*my_list) "
   ]
  },
  {
   "cell_type": "code",
   "execution_count": 7,
   "metadata": {},
   "outputs": [
    {
     "name": "stdout",
     "output_type": "stream",
     "text": [
      "hello Miguel\n"
     ]
    }
   ],
   "source": [
    "def greet(name):\n",
    "    print(\"hello \"+name)\n",
    "    \n",
    "greet(\"Miguel\")"
   ]
  },
  {
   "cell_type": "code",
   "execution_count": 12,
   "metadata": {},
   "outputs": [],
   "source": [
    " #Supose you have the follwoing cashflow\n",
    "CFList=[-1000, 200, 200, 300, 500]\n",
    "rate= 0.04\n",
    "NPV=0"
   ]
  },
  {
   "cell_type": "code",
   "execution_count": 13,
   "metadata": {},
   "outputs": [],
   "source": [
    "#calcule the NPV sugestion: iterate both by index and value using enumerate\n",
    "for t, cf in enumerate (CFList):\n",
    "    NPV=NPV + cf/((1+rate)**t)"
   ]
  },
  {
   "cell_type": "code",
   "execution_count": 14,
   "metadata": {},
   "outputs": [
    {
     "name": "stdout",
     "output_type": "stream",
     "text": [
      "71.3199380273798\n"
     ]
    }
   ],
   "source": [
    "print(NPV)\n",
    "#71.3199380273798"
   ]
  },
  {
   "cell_type": "code",
   "execution_count": 18,
   "metadata": {},
   "outputs": [],
   "source": [
    "#create a function called NPV that returns the NPV value\n",
    "def npv(cashflows,discountrate):\n",
    "    pv=0\n",
    "    for t, cf in enumerate(cashflows):\n",
    "        pv+=cf/((1+discountrate)**t)\n",
    "    return(pv)"
   ]
  },
  {
   "cell_type": "code",
   "execution_count": 19,
   "metadata": {},
   "outputs": [
    {
     "name": "stdout",
     "output_type": "stream",
     "text": [
      "71.3199380273798\n"
     ]
    }
   ],
   "source": [
    "print(npv(CFList, rate))\n",
    "#71.3199380273798"
   ]
  },
  {
   "cell_type": "code",
   "execution_count": 23,
   "metadata": {},
   "outputs": [
    {
     "name": "stdout",
     "output_type": "stream",
     "text": [
      "0.06542842834790366\n"
     ]
    }
   ],
   "source": [
    "def irr(CFList):\n",
    "    rate=1\n",
    "    for i in range(1,100):\n",
    "        rate= rate*(1-npv(CFList, rate)/CFList[0])\n",
    "    return rate\n",
    "\n",
    "\n",
    "print(irr(CFList))\n",
    "#0.06542842804025384"
   ]
  },
  {
   "cell_type": "code",
   "execution_count": 24,
   "metadata": {},
   "outputs": [
    {
     "name": "stdout",
     "output_type": "stream",
     "text": [
      "[-1000, -800, -600, -300, 200]\n",
      "[4]\n",
      "3.6\n"
     ]
    }
   ],
   "source": [
    "#pay back period\n",
    "#5 e 4.4\n",
    "CCF=[]\n",
    "CCF.append(CFList[0])\n",
    "\n",
    "for i in range (1,len(CFList)):\n",
    "    CCF.append((CCF[i-1]+CFList[i]))\n",
    "    \n",
    "print(CCF)\n",
    "\n",
    "PBPeriod=[i for i, x in enumerate(CCF) if x>0]\n",
    "print (PBPeriod)\n",
    "\n",
    "PBPeriodexact=PBPeriod[0]-1+(CCF[-2]*(-1))/(CCF[-1]-CCF[-2])\n",
    "print(PBPeriodexact)\n"
   ]
  },
  {
   "cell_type": "code",
   "execution_count": null,
   "metadata": {},
   "outputs": [],
   "source": []
  }
 ],
 "metadata": {
  "kernelspec": {
   "display_name": "Python 3",
   "language": "python",
   "name": "python3"
  },
  "language_info": {
   "codemirror_mode": {
    "name": "ipython",
    "version": 3
   },
   "file_extension": ".py",
   "mimetype": "text/x-python",
   "name": "python",
   "nbconvert_exporter": "python",
   "pygments_lexer": "ipython3",
   "version": "3.7.3"
  }
 },
 "nbformat": 4,
 "nbformat_minor": 2
}
